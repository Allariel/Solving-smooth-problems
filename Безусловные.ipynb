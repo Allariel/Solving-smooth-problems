{
 "cells": [
  {
   "cell_type": "code",
   "execution_count": 26,
   "id": "29cae26a",
   "metadata": {},
   "outputs": [
    {
     "name": "stdout",
     "output_type": "stream",
     "text": [
      "(0, 0) maybe loc max\n",
      "Значения в точке x, x-1 x+1\n",
      "0\n",
      "0\n",
      "2\n"
     ]
    }
   ],
   "source": [
    "from sympy import *\n",
    "#expr.subs([(x, 2), (y, 4), (z, 0)])\n",
    "\n",
    "def Final_Solution(signs,x_solves, main_function,List_of_var):\n",
    "    i = 0\n",
    "    while i<len(signs):\n",
    "        x_solve= [[],[],[]]\n",
    "        t = 0\n",
    "        while t < len(List_of_var):\n",
    "            x_solve[0].append((List_of_var[t],x_solves[i][t]))\n",
    "            a = [x - 1 for x in x_solves[i]]\n",
    "            b = [x + 1 for x in x_solves[i]]\n",
    "            x_solve[1].append((List_of_var[t],a[t]))\n",
    "            x_solve[2].append((List_of_var[t],b[t]))       \n",
    "            t=t+1\n",
    "        if (signs[i]==\"++\"):\n",
    "            print(x_solves[i] + \"is abs min\")\n",
    "        elif (signs[i]==\"--\"):\n",
    "            print(x_solves[i] + \"is abs max\")\n",
    "        elif (signs[i]==\"+0\"):\n",
    "            print(str(x_solves[i]) + \" maybe loc min\")\n",
    "            variations = []\n",
    "            print(\"Значения в точке x, x-1 x+1\")\n",
    "            for x in x_solve:\n",
    "               \n",
    "                print(main_function.subs(x))\n",
    "           \n",
    "        elif (signs[i]==\"-0\"):\n",
    "            print(str(x_solves[i]) + \" maybe loc max\")\n",
    "            variations = []\n",
    "            print(\"Значения в точке x, x-1 x+1\")\n",
    "            for x in x_solve:\n",
    "               \n",
    "                print(main_function.subs(x))\n",
    "                \n",
    "        else:\n",
    "            pass\n",
    "        i=i+1\n",
    "\n",
    "\n",
    "\n",
    "def Sylvester_criterion(hessians_without_vars):\n",
    "    signs = []\n",
    "    for matrix in hessians_without_vars:\n",
    "        temp_det = []\n",
    "        i = 0\n",
    "        length = list(shape(matrix))\n",
    "        while i<length[0]:\n",
    "            temp = matrix[0:i+1,0:i+1]\n",
    "            det = temp.det()\n",
    "            temp_det.append(det)\n",
    "            i=i+1\n",
    "        check_plus = all(no > 0 for no in temp_det)\n",
    "        if (check_plus): \n",
    "            signs.append(\"++\")\n",
    "            continue\n",
    "        plus0_check = all(no >= 0 for no in temp_det)\n",
    "        if (plus0_check): \n",
    "            signs.append(\"+0\")\n",
    "            continue\n",
    "        minus0_check = all(no <= 0 for no in temp_det)\n",
    "        if (minus0_check): \n",
    "            signs.append(\"-0\")\n",
    "            continue\n",
    "        if (temp_det[0]>=0):\n",
    "            signs.append(\"+-\")\n",
    "        else:\n",
    "            flag = 1\n",
    "            var = 0\n",
    "            while var<(len(temp_det)):\n",
    "                if ((var%2==0) and (temp_det[var]<0)):\n",
    "                    var=var+1\n",
    "                    continue\n",
    "                else:\n",
    "                    flag = 0;\n",
    "                    break\n",
    "                if ((var%2==1) and (temp_det[var]>0)):\n",
    "                    var=var+1\n",
    "                    continue\n",
    "                else:\n",
    "                    flag = 0;\n",
    "                    break\n",
    "            if (flag):\n",
    "                signs.append(\"--\")\n",
    "            else:\n",
    "                signs.append(\"+-\")\n",
    "    return signs\n",
    "\n",
    "def Create_Gesse_Matrix(f,List_of_var):\n",
    " tuple(List_of_var)\n",
    " return hessian(f,tuple(List_of_var))\n",
    "\n",
    "\n",
    "def create_diffur(List_of_var,main_function):\n",
    "    diffur_sheet= []\n",
    "    for x in List_of_var:\n",
    "        temp = main_function.diff(x)\n",
    "        diffur_sheet.append(temp)\n",
    "    return diffur_sheet\n",
    "\n",
    "\n",
    "\n",
    "x1 = Symbol('x_1', rational=True)\n",
    "x2 = Symbol('x_2', rational=True)\n",
    "List_of_var = [x1,x2]\n",
    "main_function = x1**4+x2**4-2*(x1-x2)**2\n",
    "\n",
    "diffur_sheet= create_diffur(List_of_var,main_function)\n",
    "x_solves = solve(diffur_sheet, List_of_var)\n",
    "hessian = Create_Gesse_Matrix(main_function,List_of_var)\n",
    "hessians_without_vars = []\n",
    "i = 0\n",
    "for item in x_solves:\n",
    "    hessians = hessian\n",
    "    while (i<len(List_of_var)):\n",
    "        hessians = hessians.subs(List_of_var[i], item[i])\n",
    "        i=i+1\n",
    "    hessians_without_vars.append(hessians)\n",
    "\n",
    "    \n",
    "signs = Sylvester_criterion(hessians_without_vars)\n",
    "Final_Solution(signs,x_solves,main_function,List_of_var)\n"
   ]
  },
  {
   "cell_type": "code",
   "execution_count": 27,
   "id": "80ea13fe",
   "metadata": {},
   "outputs": [
    {
     "data": {
      "text/plain": [
       "[4*x_1**3 - 4*x_1 + 4*x_2, 4*x_1 + 7*x_2**6 - 4*x_2]"
      ]
     },
     "execution_count": 27,
     "metadata": {},
     "output_type": "execute_result"
    }
   ],
   "source": [
    "diffur_sheet"
   ]
  },
  {
   "cell_type": "code",
   "execution_count": 112,
   "id": "ef5c5ea8",
   "metadata": {},
   "outputs": [
    {
     "data": {
      "text/plain": [
       "[(0, 0)]"
      ]
     },
     "execution_count": 112,
     "metadata": {},
     "output_type": "execute_result"
    }
   ],
   "source": [
    "x_solves"
   ]
  },
  {
   "cell_type": "code",
   "execution_count": 28,
   "id": "8d619bd4",
   "metadata": {},
   "outputs": [
    {
     "data": {
      "text/latex": [
       "$\\displaystyle \\left[\\begin{matrix}12 x_{1}^{2} - 4 & 4\\\\4 & 42 x_{2}^{5} - 4\\end{matrix}\\right]$"
      ],
      "text/plain": [
       "Matrix([\n",
       "[12*x_1**2 - 4,             4],\n",
       "[            4, 42*x_2**5 - 4]])"
      ]
     },
     "execution_count": 28,
     "metadata": {},
     "output_type": "execute_result"
    }
   ],
   "source": [
    "hessian"
   ]
  },
  {
   "cell_type": "code",
   "execution_count": 113,
   "id": "7fac8933",
   "metadata": {},
   "outputs": [
    {
     "data": {
      "text/plain": [
       "[Matrix([\n",
       " [-4,  4],\n",
       " [ 4, -4]])]"
      ]
     },
     "execution_count": 113,
     "metadata": {},
     "output_type": "execute_result"
    }
   ],
   "source": [
    "hessians_without_vars"
   ]
  },
  {
   "cell_type": "code",
   "execution_count": null,
   "id": "9873fb06",
   "metadata": {},
   "outputs": [],
   "source": []
  }
 ],
 "metadata": {
  "kernelspec": {
   "display_name": "Python 3 (ipykernel)",
   "language": "python",
   "name": "python3"
  },
  "language_info": {
   "codemirror_mode": {
    "name": "ipython",
    "version": 3
   },
   "file_extension": ".py",
   "mimetype": "text/x-python",
   "name": "python",
   "nbconvert_exporter": "python",
   "pygments_lexer": "ipython3",
   "version": "3.9.7"
  }
 },
 "nbformat": 4,
 "nbformat_minor": 5
}
