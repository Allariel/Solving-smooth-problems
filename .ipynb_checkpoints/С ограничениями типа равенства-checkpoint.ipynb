{
 "cells": [
  {
   "cell_type": "code",
   "execution_count": 60,
   "id": "35c02d4a",
   "metadata": {},
   "outputs": [],
   "source": [
    "from sympy import *\n",
    "import re\n",
    "\n",
    "def create_diffur(List_of_var,main_function):\n",
    "    diffur_sheet= []\n",
    "    for x in List_of_var:\n",
    "        temp = main_function.diff(x)\n",
    "        diffur_sheet.append(temp)\n",
    "    return diffur_sheet\n",
    "\n",
    "\n",
    "\n",
    "\n",
    "\n",
    "\n",
    "\n",
    "\n",
    "\n",
    "\n",
    "\n",
    "\n",
    "x1 = Symbol('x_1', rational=True)\n",
    "x2 = Symbol('x_2', rational=True)\n",
    "x3 = Symbol('x_3', rational=True)\n",
    "A1 = Symbol('A_1', rational=True)\n",
    "A2 = Symbol('A_2', rational=True)\n",
    "List_of_var = [x1,x2,x3]\n",
    "List_of_A = [A1,A2]\n",
    "List_of_func = []\n",
    "List_of_ogr = []\n",
    "f=x1-2*x2+2*x3\n",
    "List_of_func.append(f)\n",
    "f=x1**2+x2**2+x3**2-1\n",
    "List_of_func.append(f)\n",
    "List_of_ogr.append(f)\n",
    "\n",
    "\n",
    "Lagrang = \"\"\n",
    "i=0;\n",
    "while i < len(List_of_func):\n",
    "    if i==0:\n",
    "        Lagrang = Lagrang + str(List_of_A[i])+ \"*(\" + str(List_of_func[i])+\")\" \n",
    "    else:\n",
    "        Lagrang = Lagrang + \"+\" + str(List_of_A[i])+ \"*(\" + str(List_of_func[i])+\")\" \n",
    "    i=i+1\n",
    "Lagrang = re.sub('[_]', '', Lagrang)\n",
    "Lagrang = eval(Lagrang)\n",
    "\n",
    "diffur_sheet= create_diffur(List_of_var,Lagrang)\n",
    "SLAU = diffur_sheet + List_of_ogr\n",
    "List_of_all = List_of_var+List_of_A[1:]\n",
    "x_solves = solve(SLAU, List_of_all)   "
   ]
  },
  {
   "cell_type": "code",
   "execution_count": 61,
   "id": "883ad82a",
   "metadata": {},
   "outputs": [
    {
     "data": {
      "text/latex": [
       "$\\displaystyle A_{1} \\left(x_{1} - 2 x_{2} + 2 x_{3}\\right) + A_{2} \\left(x_{1}^{2} + x_{2}^{2} + x_{3}^{2} - 1\\right)$"
      ],
      "text/plain": [
       "A_1*(x_1 - 2*x_2 + 2*x_3) + A_2*(x_1**2 + x_2**2 + x_3**2 - 1)"
      ]
     },
     "execution_count": 61,
     "metadata": {},
     "output_type": "execute_result"
    }
   ],
   "source": [
    "Lagrang"
   ]
  },
  {
   "cell_type": "code",
   "execution_count": 62,
   "id": "d9125dba",
   "metadata": {},
   "outputs": [
    {
     "data": {
      "text/latex": [
       "$\\displaystyle - 2 A_{1} + 2 A_{2} x_{2}$"
      ],
      "text/plain": [
       "-2*A_1 + 2*A_2*x_2"
      ]
     },
     "execution_count": 62,
     "metadata": {},
     "output_type": "execute_result"
    }
   ],
   "source": [
    "diffur_sheet[1]"
   ]
  },
  {
   "cell_type": "code",
   "execution_count": 64,
   "id": "ed7b2ca4",
   "metadata": {},
   "outputs": [
    {
     "data": {
      "text/latex": [
       "$\\displaystyle A_{1} + 2 A_{2} x_{1}$"
      ],
      "text/plain": [
       "A_1 + 2*A_2*x_1"
      ]
     },
     "execution_count": 64,
     "metadata": {},
     "output_type": "execute_result"
    }
   ],
   "source": [
    "SLAU[0]"
   ]
  },
  {
   "cell_type": "code",
   "execution_count": 59,
   "id": "6b901009",
   "metadata": {},
   "outputs": [
    {
     "data": {
      "text/plain": [
       "[(-1/3, 2/3, -2/3, -3/2), (1/3, -2/3, 2/3, 3/2)]"
      ]
     },
     "execution_count": 59,
     "metadata": {},
     "output_type": "execute_result"
    }
   ],
   "source": [
    "x_solves"
   ]
  },
  {
   "cell_type": "code",
   "execution_count": null,
   "id": "5b1392ab",
   "metadata": {},
   "outputs": [],
   "source": []
  }
 ],
 "metadata": {
  "kernelspec": {
   "display_name": "Python 3 (ipykernel)",
   "language": "python",
   "name": "python3"
  },
  "language_info": {
   "codemirror_mode": {
    "name": "ipython",
    "version": 3
   },
   "file_extension": ".py",
   "mimetype": "text/x-python",
   "name": "python",
   "nbconvert_exporter": "python",
   "pygments_lexer": "ipython3",
   "version": "3.9.7"
  }
 },
 "nbformat": 4,
 "nbformat_minor": 5
}
